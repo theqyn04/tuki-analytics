{
 "cells": [
  {
   "metadata": {},
   "cell_type": "markdown",
   "source": "# Load libs",
   "id": "fea211d9858e74df"
  },
  {
   "metadata": {
    "ExecuteTime": {
     "end_time": "2025-10-08T13:24:09.025876Z",
     "start_time": "2025-10-08T13:24:07.787586Z"
    }
   },
   "cell_type": "code",
   "source": [
    "import os\n",
    "import requests\n",
    "\n",
    "import google_auth_oauthlib.flow\n",
    "import googleapiclient.discovery\n",
    "import googleapiclient.errors\n",
    "\n",
    "import pandas as pd\n",
    "import json\n",
    "import datetime\n",
    "import re\n",
    "\n",
    "pd.set_option('display.max_columns', None)"
   ],
   "id": "395d70951afa2636",
   "outputs": [],
   "execution_count": 2
  },
  {
   "metadata": {},
   "cell_type": "markdown",
   "source": "# Load .env & handle",
   "id": "f34910aedb2b2c9f"
  },
  {
   "metadata": {
    "ExecuteTime": {
     "end_time": "2025-10-08T13:25:03.236892Z",
     "start_time": "2025-10-08T13:25:03.213854Z"
    }
   },
   "cell_type": "code",
   "source": [
    "from dotenv import load_dotenv\n",
    "load_dotenv()\n",
    "API_KEY = os.getenv(\"YOUTUBE_API_KEY\")"
   ],
   "id": "e30e46fef7225ca7",
   "outputs": [],
   "execution_count": 7
  },
  {
   "metadata": {
    "ExecuteTime": {
     "end_time": "2025-10-08T13:25:04.852244Z",
     "start_time": "2025-10-08T13:25:04.840952Z"
    }
   },
   "cell_type": "code",
   "source": "HANDLE = \"@tuki.music_official\"",
   "id": "cae526a9cb91dec3",
   "outputs": [],
   "execution_count": 8
  },
  {
   "metadata": {},
   "cell_type": "markdown",
   "source": "## 1. Lấy thông tin channel + uploads playlist",
   "id": "8c7526bbe427810a"
  },
  {
   "metadata": {
    "ExecuteTime": {
     "end_time": "2025-10-08T13:25:06.886412Z",
     "start_time": "2025-10-08T13:25:06.475480Z"
    }
   },
   "cell_type": "code",
   "source": [
    "ch_res = requests.get(\n",
    "    \"https://www.googleapis.com/youtube/v3/channels\",\n",
    "    params={\n",
    "        \"part\": \"snippet, statistics, contentDetails\",\n",
    "        \"forHandle\": HANDLE,\n",
    "        \"key\": API_KEY\n",
    "    }\n",
    ").json()\n",
    "\n",
    "if not ch_res.get(\"items\"):\n",
    "    raise SystemExit(\"Không tìm thấy channel với handle này.\")\n",
    "\n",
    "ch_item = ch_res[\"items\"][0]\n",
    "channel_id = ch_item[\"id\"]\n",
    "upload_pl = ch_item[\"contentDetails\"][\"relatedPlaylists\"][\"uploads\"]\n",
    "\n",
    "print(\"Channel ID:\", channel_id)\n",
    "print(\"Title:\", ch_item[\"snippet\"][\"title\"])\n",
    "print(\"Subs:\", ch_item[\"statistics\"].get(\"subscriberCount\"))"
   ],
   "id": "f712c9b906d4c5b9",
   "outputs": [
    {
     "name": "stdout",
     "output_type": "stream",
     "text": [
      "Channel ID: UCp74ruKv2sUiI2HqEhH8pRw\n",
      "Title: tuki.(16)\n",
      "Subs: 1100000\n"
     ]
    }
   ],
   "execution_count": 9
  },
  {
   "metadata": {
    "ExecuteTime": {
     "end_time": "2025-10-08T12:04:49.886799Z",
     "start_time": "2025-10-08T12:04:49.874837Z"
    }
   },
   "cell_type": "code",
   "source": "ch_res",
   "id": "6f530d678031c9c7",
   "outputs": [
    {
     "data": {
      "text/plain": [
       "{'kind': 'youtube#channelListResponse',\n",
       " 'etag': 'gmB4e6iGPQXGYLe40Yrou1HXSa0',\n",
       " 'pageInfo': {'totalResults': 1, 'resultsPerPage': 5},\n",
       " 'items': [{'kind': 'youtube#channel',\n",
       "   'etag': '-Krf-eCpt5_PDvenghECPP5-vDY',\n",
       "   'id': 'UCp74ruKv2sUiI2HqEhH8pRw',\n",
       "   'snippet': {'title': 'tuki.(16)',\n",
       "    'description': '高校二年生 16歳 弾き語り 誰かの心に響きますように。',\n",
       "    'customUrl': '@tuki.music_official',\n",
       "    'publishedAt': '2023-07-18T07:32:30.72368Z',\n",
       "    'thumbnails': {'default': {'url': 'https://yt3.ggpht.com/56pJ8Rhb9L2wXD6sXgkOkFFSp29OfgvVK3GjkpuqSKv0e0bHi5p-p4S6hZbMhyaECRubkdfO0A=s88-c-k-c0x00ffffff-no-rj',\n",
       "      'width': 88,\n",
       "      'height': 88},\n",
       "     'medium': {'url': 'https://yt3.ggpht.com/56pJ8Rhb9L2wXD6sXgkOkFFSp29OfgvVK3GjkpuqSKv0e0bHi5p-p4S6hZbMhyaECRubkdfO0A=s240-c-k-c0x00ffffff-no-rj',\n",
       "      'width': 240,\n",
       "      'height': 240},\n",
       "     'high': {'url': 'https://yt3.ggpht.com/56pJ8Rhb9L2wXD6sXgkOkFFSp29OfgvVK3GjkpuqSKv0e0bHi5p-p4S6hZbMhyaECRubkdfO0A=s800-c-k-c0x00ffffff-no-rj',\n",
       "      'width': 800,\n",
       "      'height': 800}},\n",
       "    'localized': {'title': 'tuki.(16)',\n",
       "     'description': '高校二年生 16歳 弾き語り 誰かの心に響きますように。'},\n",
       "    'country': 'JP'},\n",
       "   'contentDetails': {'relatedPlaylists': {'likes': '',\n",
       "     'uploads': 'UUp74ruKv2sUiI2HqEhH8pRw'}},\n",
       "   'statistics': {'viewCount': '552984374',\n",
       "    'subscriberCount': '1100000',\n",
       "    'hiddenSubscriberCount': False,\n",
       "    'videoCount': '330'}}]}"
      ]
     },
     "execution_count": 4,
     "metadata": {},
     "output_type": "execute_result"
    }
   ],
   "execution_count": 4
  },
  {
   "metadata": {
    "ExecuteTime": {
     "end_time": "2025-10-08T13:25:12.762438Z",
     "start_time": "2025-10-08T13:25:12.720111Z"
    }
   },
   "cell_type": "code",
   "source": [
    "df_channel_dbt = pd.json_normalize(ch_res, sep=\"__\")\n",
    "df_channel_dbt"
   ],
   "id": "1d9984bce37be6bf",
   "outputs": [
    {
     "data": {
      "text/plain": [
       "                          kind                         etag  \\\n",
       "0  youtube#channelListResponse  gmB4e6iGPQXGYLe40Yrou1HXSa0   \n",
       "\n",
       "                                               items  pageInfo__totalResults  \\\n",
       "0  [{'kind': 'youtube#channel', 'etag': '-Krf-eCp...                       1   \n",
       "\n",
       "   pageInfo__resultsPerPage  \n",
       "0                         5  "
      ],
      "text/html": [
       "<div>\n",
       "<style scoped>\n",
       "    .dataframe tbody tr th:only-of-type {\n",
       "        vertical-align: middle;\n",
       "    }\n",
       "\n",
       "    .dataframe tbody tr th {\n",
       "        vertical-align: top;\n",
       "    }\n",
       "\n",
       "    .dataframe thead th {\n",
       "        text-align: right;\n",
       "    }\n",
       "</style>\n",
       "<table border=\"1\" class=\"dataframe\">\n",
       "  <thead>\n",
       "    <tr style=\"text-align: right;\">\n",
       "      <th></th>\n",
       "      <th>kind</th>\n",
       "      <th>etag</th>\n",
       "      <th>items</th>\n",
       "      <th>pageInfo__totalResults</th>\n",
       "      <th>pageInfo__resultsPerPage</th>\n",
       "    </tr>\n",
       "  </thead>\n",
       "  <tbody>\n",
       "    <tr>\n",
       "      <th>0</th>\n",
       "      <td>youtube#channelListResponse</td>\n",
       "      <td>gmB4e6iGPQXGYLe40Yrou1HXSa0</td>\n",
       "      <td>[{'kind': 'youtube#channel', 'etag': '-Krf-eCp...</td>\n",
       "      <td>1</td>\n",
       "      <td>5</td>\n",
       "    </tr>\n",
       "  </tbody>\n",
       "</table>\n",
       "</div>"
      ]
     },
     "execution_count": 10,
     "metadata": {},
     "output_type": "execute_result"
    }
   ],
   "execution_count": 10
  },
  {
   "metadata": {
    "ExecuteTime": {
     "end_time": "2025-10-08T12:08:22.633836Z",
     "start_time": "2025-10-08T12:08:22.612740Z"
    }
   },
   "cell_type": "code",
   "source": [
    "# Trích xuất dữ liệu\n",
    "channels = []\n",
    "for item in ch_res.get(\"items\", []):\n",
    "    channels.append({\n",
    "        \"channel_id\": item[\"id\"],\n",
    "        \"title\": item[\"snippet\"][\"title\"],\n",
    "        \"description\": item[\"snippet\"][\"description\"],\n",
    "        \"customUrl\": item[\"snippet\"].get(\"customUrl\"),\n",
    "        \"publishedAt\": item[\"snippet\"][\"publishedAt\"],\n",
    "        \"country\": item[\"snippet\"].get(\"country\"),\n",
    "        \"thumbnail_high\": item[\"snippet\"][\"thumbnails\"][\"high\"][\"url\"],\n",
    "        \"uploads_playlist\": item[\"contentDetails\"][\"relatedPlaylists\"][\"uploads\"],\n",
    "        \"subscriberCount\": int(item[\"statistics\"].get(\"subscriberCount\", 0)),\n",
    "        \"viewCount\": int(item[\"statistics\"].get(\"viewCount\", 0)),\n",
    "        \"videoCount\": int(item[\"statistics\"].get(\"videoCount\", 0)),\n",
    "    })\n",
    "\n",
    "# Đưa vào DataFrame\n",
    "df_channels = pd.DataFrame(channels)\n",
    "df_channels"
   ],
   "id": "454bdc73ea46c6d4",
   "outputs": [
    {
     "data": {
      "text/plain": [
       "                 channel_id      title                   description  \\\n",
       "0  UCp74ruKv2sUiI2HqEhH8pRw  tuki.(16)  高校二年生 16歳 弾き語り 誰かの心に響きますように。   \n",
       "\n",
       "              customUrl                 publishedAt country  \\\n",
       "0  @tuki.music_official  2023-07-18T07:32:30.72368Z      JP   \n",
       "\n",
       "                                      thumbnail_high  \\\n",
       "0  https://yt3.ggpht.com/56pJ8Rhb9L2wXD6sXgkOkFFS...   \n",
       "\n",
       "           uploads_playlist  subscriberCount  viewCount  videoCount  \n",
       "0  UUp74ruKv2sUiI2HqEhH8pRw          1100000  552984374         330  "
      ],
      "text/html": [
       "<div>\n",
       "<style scoped>\n",
       "    .dataframe tbody tr th:only-of-type {\n",
       "        vertical-align: middle;\n",
       "    }\n",
       "\n",
       "    .dataframe tbody tr th {\n",
       "        vertical-align: top;\n",
       "    }\n",
       "\n",
       "    .dataframe thead th {\n",
       "        text-align: right;\n",
       "    }\n",
       "</style>\n",
       "<table border=\"1\" class=\"dataframe\">\n",
       "  <thead>\n",
       "    <tr style=\"text-align: right;\">\n",
       "      <th></th>\n",
       "      <th>channel_id</th>\n",
       "      <th>title</th>\n",
       "      <th>description</th>\n",
       "      <th>customUrl</th>\n",
       "      <th>publishedAt</th>\n",
       "      <th>country</th>\n",
       "      <th>thumbnail_high</th>\n",
       "      <th>uploads_playlist</th>\n",
       "      <th>subscriberCount</th>\n",
       "      <th>viewCount</th>\n",
       "      <th>videoCount</th>\n",
       "    </tr>\n",
       "  </thead>\n",
       "  <tbody>\n",
       "    <tr>\n",
       "      <th>0</th>\n",
       "      <td>UCp74ruKv2sUiI2HqEhH8pRw</td>\n",
       "      <td>tuki.(16)</td>\n",
       "      <td>高校二年生 16歳 弾き語り 誰かの心に響きますように。</td>\n",
       "      <td>@tuki.music_official</td>\n",
       "      <td>2023-07-18T07:32:30.72368Z</td>\n",
       "      <td>JP</td>\n",
       "      <td>https://yt3.ggpht.com/56pJ8Rhb9L2wXD6sXgkOkFFS...</td>\n",
       "      <td>UUp74ruKv2sUiI2HqEhH8pRw</td>\n",
       "      <td>1100000</td>\n",
       "      <td>552984374</td>\n",
       "      <td>330</td>\n",
       "    </tr>\n",
       "  </tbody>\n",
       "</table>\n",
       "</div>"
      ]
     },
     "execution_count": 9,
     "metadata": {},
     "output_type": "execute_result"
    }
   ],
   "execution_count": 9
  },
  {
   "metadata": {},
   "cell_type": "markdown",
   "source": "## 2. Lấy ra playlists",
   "id": "8bd11e0468e8dd03"
  },
  {
   "metadata": {
    "ExecuteTime": {
     "end_time": "2025-10-08T13:25:42.174290Z",
     "start_time": "2025-10-08T13:25:41.834055Z"
    }
   },
   "cell_type": "code",
   "source": [
    "# Lấy ra toàn bộ playlists của channel\n",
    "pl_items = []\n",
    "page_token = None\n",
    "\n",
    "while True:\n",
    "    pl_res = requests.get(\n",
    "        \"https://www.googleapis.com/youtube/v3/playlists\",\n",
    "        params={\n",
    "            \"part\": \"snippet,contentDetails\",\n",
    "            \"channelId\": channel_id,\n",
    "            \"maxResults\": 50,\n",
    "            \"pageToken\": page_token,\n",
    "            \"key\": API_KEY\n",
    "        }\n",
    "    ).json()\n",
    "\n",
    "    pl_items.extend(pl_res.get(\"items\", []))\n",
    "    page_token = pl_res.get(\"nextPageToken\")\n",
    "    if not page_token:\n",
    "        break\n",
    "\n",
    "print(\"Số playlists:\", len(pl_items))"
   ],
   "id": "cfdc70fbcc4d74b1",
   "outputs": [
    {
     "name": "stdout",
     "output_type": "stream",
     "text": [
      "Số playlists: 1\n"
     ]
    }
   ],
   "execution_count": 12
  },
  {
   "metadata": {
    "ExecuteTime": {
     "end_time": "2025-10-08T13:25:57.034894Z",
     "start_time": "2025-10-08T13:25:57.022368Z"
    }
   },
   "cell_type": "code",
   "source": "pl_items[0]",
   "id": "defa292d1678013d",
   "outputs": [
    {
     "data": {
      "text/plain": [
       "{'kind': 'youtube#playlist',\n",
       " 'etag': 'VpEo9bH9SdxqLdWVmR9rcJahWo0',\n",
       " 'id': 'PLs0vU1OF8rpoVRDNU1PAaG7Y1QevGDDMA',\n",
       " 'snippet': {'publishedAt': '2023-12-28T10:55:13.295457Z',\n",
       "  'channelId': 'UCp74ruKv2sUiI2HqEhH8pRw',\n",
       "  'title': 'ミュージックビデオ',\n",
       "  'description': '',\n",
       "  'thumbnails': {'default': {'url': 'https://i.ytimg.com/vi/0-MocwNWSPU/default.jpg',\n",
       "    'width': 120,\n",
       "    'height': 90},\n",
       "   'medium': {'url': 'https://i.ytimg.com/vi/0-MocwNWSPU/mqdefault.jpg',\n",
       "    'width': 320,\n",
       "    'height': 180},\n",
       "   'high': {'url': 'https://i.ytimg.com/vi/0-MocwNWSPU/hqdefault.jpg',\n",
       "    'width': 480,\n",
       "    'height': 360},\n",
       "   'standard': {'url': 'https://i.ytimg.com/vi/0-MocwNWSPU/sddefault.jpg',\n",
       "    'width': 640,\n",
       "    'height': 480},\n",
       "   'maxres': {'url': 'https://i.ytimg.com/vi/0-MocwNWSPU/maxresdefault.jpg',\n",
       "    'width': 1280,\n",
       "    'height': 720}},\n",
       "  'channelTitle': 'tuki.(16)',\n",
       "  'localized': {'title': 'ミュージックビデオ', 'description': ''}},\n",
       " 'contentDetails': {'itemCount': 18}}"
      ]
     },
     "execution_count": 13,
     "metadata": {},
     "output_type": "execute_result"
    }
   ],
   "execution_count": 13
  },
  {
   "metadata": {
    "ExecuteTime": {
     "end_time": "2025-10-08T13:26:59.915302Z",
     "start_time": "2025-10-08T13:26:59.896778Z"
    }
   },
   "cell_type": "code",
   "source": [
    "df_playlist_dbt = pd.json_normalize(pl_res, sep=\"__\")\n",
    "df_playlist_dbt.head(1)"
   ],
   "id": "f7be0b744b03f43e",
   "outputs": [
    {
     "data": {
      "text/plain": [
       "                           kind                         etag  \\\n",
       "0  youtube#playlistListResponse  Bys6gZ3JLTB8e4ymGdq-4uwndaA   \n",
       "\n",
       "                                               items  pageInfo__totalResults  \\\n",
       "0  [{'kind': 'youtube#playlist', 'etag': 'VpEo9bH...                       1   \n",
       "\n",
       "   pageInfo__resultsPerPage  \n",
       "0                        50  "
      ],
      "text/html": [
       "<div>\n",
       "<style scoped>\n",
       "    .dataframe tbody tr th:only-of-type {\n",
       "        vertical-align: middle;\n",
       "    }\n",
       "\n",
       "    .dataframe tbody tr th {\n",
       "        vertical-align: top;\n",
       "    }\n",
       "\n",
       "    .dataframe thead th {\n",
       "        text-align: right;\n",
       "    }\n",
       "</style>\n",
       "<table border=\"1\" class=\"dataframe\">\n",
       "  <thead>\n",
       "    <tr style=\"text-align: right;\">\n",
       "      <th></th>\n",
       "      <th>kind</th>\n",
       "      <th>etag</th>\n",
       "      <th>items</th>\n",
       "      <th>pageInfo__totalResults</th>\n",
       "      <th>pageInfo__resultsPerPage</th>\n",
       "    </tr>\n",
       "  </thead>\n",
       "  <tbody>\n",
       "    <tr>\n",
       "      <th>0</th>\n",
       "      <td>youtube#playlistListResponse</td>\n",
       "      <td>Bys6gZ3JLTB8e4ymGdq-4uwndaA</td>\n",
       "      <td>[{'kind': 'youtube#playlist', 'etag': 'VpEo9bH...</td>\n",
       "      <td>1</td>\n",
       "      <td>50</td>\n",
       "    </tr>\n",
       "  </tbody>\n",
       "</table>\n",
       "</div>"
      ]
     },
     "execution_count": 16,
     "metadata": {},
     "output_type": "execute_result"
    }
   ],
   "execution_count": 16
  },
  {
   "metadata": {
    "ExecuteTime": {
     "end_time": "2025-10-08T13:26:35.935364Z",
     "start_time": "2025-10-08T13:26:35.922469Z"
    }
   },
   "cell_type": "code",
   "source": "df_channel_dbt['items'][0]",
   "id": "a35730e245cf377c",
   "outputs": [
    {
     "data": {
      "text/plain": [
       "[{'kind': 'youtube#channel',\n",
       "  'etag': '-Krf-eCpt5_PDvenghECPP5-vDY',\n",
       "  'id': 'UCp74ruKv2sUiI2HqEhH8pRw',\n",
       "  'snippet': {'title': 'tuki.(16)',\n",
       "   'description': '高校二年生 16歳 弾き語り 誰かの心に響きますように。',\n",
       "   'customUrl': '@tuki.music_official',\n",
       "   'publishedAt': '2023-07-18T07:32:30.72368Z',\n",
       "   'thumbnails': {'default': {'url': 'https://yt3.ggpht.com/56pJ8Rhb9L2wXD6sXgkOkFFSp29OfgvVK3GjkpuqSKv0e0bHi5p-p4S6hZbMhyaECRubkdfO0A=s88-c-k-c0x00ffffff-no-rj',\n",
       "     'width': 88,\n",
       "     'height': 88},\n",
       "    'medium': {'url': 'https://yt3.ggpht.com/56pJ8Rhb9L2wXD6sXgkOkFFSp29OfgvVK3GjkpuqSKv0e0bHi5p-p4S6hZbMhyaECRubkdfO0A=s240-c-k-c0x00ffffff-no-rj',\n",
       "     'width': 240,\n",
       "     'height': 240},\n",
       "    'high': {'url': 'https://yt3.ggpht.com/56pJ8Rhb9L2wXD6sXgkOkFFSp29OfgvVK3GjkpuqSKv0e0bHi5p-p4S6hZbMhyaECRubkdfO0A=s800-c-k-c0x00ffffff-no-rj',\n",
       "     'width': 800,\n",
       "     'height': 800}},\n",
       "   'localized': {'title': 'tuki.(16)',\n",
       "    'description': '高校二年生 16歳 弾き語り 誰かの心に響きますように。'},\n",
       "   'country': 'JP'},\n",
       "  'contentDetails': {'relatedPlaylists': {'likes': '',\n",
       "    'uploads': 'UUp74ruKv2sUiI2HqEhH8pRw'}},\n",
       "  'statistics': {'viewCount': '552984374',\n",
       "   'subscriberCount': '1100000',\n",
       "   'hiddenSubscriberCount': False,\n",
       "   'videoCount': '330'}}]"
      ]
     },
     "execution_count": 15,
     "metadata": {},
     "output_type": "execute_result"
    }
   ],
   "execution_count": 15
  },
  {
   "metadata": {
    "ExecuteTime": {
     "end_time": "2025-10-08T13:32:01.739873Z",
     "start_time": "2025-10-08T13:32:01.706383Z"
    }
   },
   "cell_type": "code",
   "source": [
    "# phẳng JSON -> DataFrame\n",
    "df = pd.json_normalize(pl_items, sep=\"__\")\n",
    "\n",
    "# chuẩn hóa tên cột chính\n",
    "rename_map = {\n",
    "    \"id\": \"playlist_id\",\n",
    "    \"snippet__channelId\": \"channel_id\",\n",
    "    \"snippet__channelTitle\": \"channel_title\",\n",
    "    \"snippet__title\": \"playlist_title\",\n",
    "    \"snippet__description\": \"playlist_desc\",\n",
    "    \"snippet__publishedAt\": \"published_at\",\n",
    "    \"contentDetails__itemCount\": \"item_count\",\n",
    "    \"snippet__thumbnails__default__url\": \"thumb_default\",\n",
    "    \"snippet__thumbnails__medium__url\": \"thumb_medium\",\n",
    "    \"snippet__thumbnails__high__url\": \"thumb_high\",\n",
    "}\n",
    "df = df.rename(columns=rename_map)\n",
    "\n",
    "# ép kiểu & parse thời gian\n",
    "df[\"published_at\"] = pd.to_datetime(df[\"published_at\"], errors=\"coerce\")\n",
    "df[\"item_count\"]   = pd.to_numeric(df[\"item_count\"], errors=\"coerce\").astype(\"Int64\")\n",
    "\n",
    "# chọn subset cột gọn gàng\n",
    "df_playlists = df[\n",
    "    [\"playlist_id\", \"playlist_title\", \"playlist_desc\",\n",
    "     \"published_at\", \"channel_id\", \"channel_title\",\n",
    "     \"item_count\", \"thumb_default\", \"thumb_medium\", \"thumb_high\"]\n",
    "]\n",
    "\n",
    "df_playlists.head(1)"
   ],
   "id": "2a7a63e94937b3ef",
   "outputs": [
    {
     "data": {
      "text/plain": [
       "                          playlist_id playlist_title playlist_desc  \\\n",
       "0  PLs0vU1OF8rpoVRDNU1PAaG7Y1QevGDDMA      ミュージックビデオ                 \n",
       "\n",
       "                      published_at                channel_id channel_title  \\\n",
       "0 2023-12-28 10:55:13.295457+00:00  UCp74ruKv2sUiI2HqEhH8pRw     tuki.(16)   \n",
       "\n",
       "   item_count                                   thumb_default  \\\n",
       "0          18  https://i.ytimg.com/vi/0-MocwNWSPU/default.jpg   \n",
       "\n",
       "                                       thumb_medium  \\\n",
       "0  https://i.ytimg.com/vi/0-MocwNWSPU/mqdefault.jpg   \n",
       "\n",
       "                                         thumb_high  \n",
       "0  https://i.ytimg.com/vi/0-MocwNWSPU/hqdefault.jpg  "
      ],
      "text/html": [
       "<div>\n",
       "<style scoped>\n",
       "    .dataframe tbody tr th:only-of-type {\n",
       "        vertical-align: middle;\n",
       "    }\n",
       "\n",
       "    .dataframe tbody tr th {\n",
       "        vertical-align: top;\n",
       "    }\n",
       "\n",
       "    .dataframe thead th {\n",
       "        text-align: right;\n",
       "    }\n",
       "</style>\n",
       "<table border=\"1\" class=\"dataframe\">\n",
       "  <thead>\n",
       "    <tr style=\"text-align: right;\">\n",
       "      <th></th>\n",
       "      <th>playlist_id</th>\n",
       "      <th>playlist_title</th>\n",
       "      <th>playlist_desc</th>\n",
       "      <th>published_at</th>\n",
       "      <th>channel_id</th>\n",
       "      <th>channel_title</th>\n",
       "      <th>item_count</th>\n",
       "      <th>thumb_default</th>\n",
       "      <th>thumb_medium</th>\n",
       "      <th>thumb_high</th>\n",
       "    </tr>\n",
       "  </thead>\n",
       "  <tbody>\n",
       "    <tr>\n",
       "      <th>0</th>\n",
       "      <td>PLs0vU1OF8rpoVRDNU1PAaG7Y1QevGDDMA</td>\n",
       "      <td>ミュージックビデオ</td>\n",
       "      <td></td>\n",
       "      <td>2023-12-28 10:55:13.295457+00:00</td>\n",
       "      <td>UCp74ruKv2sUiI2HqEhH8pRw</td>\n",
       "      <td>tuki.(16)</td>\n",
       "      <td>18</td>\n",
       "      <td>https://i.ytimg.com/vi/0-MocwNWSPU/default.jpg</td>\n",
       "      <td>https://i.ytimg.com/vi/0-MocwNWSPU/mqdefault.jpg</td>\n",
       "      <td>https://i.ytimg.com/vi/0-MocwNWSPU/hqdefault.jpg</td>\n",
       "    </tr>\n",
       "  </tbody>\n",
       "</table>\n",
       "</div>"
      ]
     },
     "execution_count": 19,
     "metadata": {},
     "output_type": "execute_result"
    }
   ],
   "execution_count": 19
  }
 ],
 "metadata": {
  "kernelspec": {
   "name": "python3",
   "language": "python",
   "display_name": "Python 3 (ipykernel)"
  }
 },
 "nbformat": 4,
 "nbformat_minor": 5
}
