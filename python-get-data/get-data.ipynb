{
 "cells": [
  {
   "metadata": {},
   "cell_type": "markdown",
   "source": "# Load libs",
   "id": "fea211d9858e74df"
  },
  {
   "metadata": {
    "ExecuteTime": {
     "end_time": "2025-10-08T12:06:55.737009Z",
     "start_time": "2025-10-08T12:06:55.098865Z"
    }
   },
   "cell_type": "code",
   "source": [
    "import os\n",
    "import requests\n",
    "\n",
    "import google_auth_oauthlib.flow\n",
    "import googleapiclient.discovery\n",
    "import googleapiclient.errors\n",
    "\n",
    "import pandas as pd\n",
    "import json\n",
    "import datetime\n",
    "import re\n",
    "\n",
    "pd.set_option('display.max_columns', None)"
   ],
   "id": "395d70951afa2636",
   "outputs": [],
   "execution_count": 7
  },
  {
   "metadata": {},
   "cell_type": "markdown",
   "source": "# Load .env & handle",
   "id": "f34910aedb2b2c9f"
  },
  {
   "metadata": {
    "ExecuteTime": {
     "end_time": "2025-10-08T11:52:53.738786Z",
     "start_time": "2025-10-08T11:52:53.711271Z"
    }
   },
   "cell_type": "code",
   "source": [
    "from dotenv import load_dotenv\n",
    "load_dotenv()\n",
    "API_KEY = os.getenv(\"YOUTUBE_API_KEY\")"
   ],
   "id": "e30e46fef7225ca7",
   "outputs": [],
   "execution_count": 2
  },
  {
   "metadata": {
    "ExecuteTime": {
     "end_time": "2025-10-08T11:53:17.162830Z",
     "start_time": "2025-10-08T11:53:17.135070Z"
    }
   },
   "cell_type": "code",
   "source": "HANDLE = \"@tuki.music_official\"",
   "id": "cae526a9cb91dec3",
   "outputs": [],
   "execution_count": 3
  },
  {
   "metadata": {},
   "cell_type": "markdown",
   "source": "## 1. Lấy thông tin channel + uploads playlist",
   "id": "8c7526bbe427810a"
  },
  {
   "metadata": {
    "ExecuteTime": {
     "end_time": "2025-10-08T12:04:20.591129Z",
     "start_time": "2025-10-08T12:04:20.397702Z"
    }
   },
   "cell_type": "code",
   "source": [
    "ch_res = requests.get(\n",
    "    \"https://www.googleapis.com/youtube/v3/channels\",\n",
    "    params={\n",
    "        \"part\": \"snippet, statistics, contentDetails\",\n",
    "        \"forHandle\": HANDLE,\n",
    "        \"key\": API_KEY\n",
    "    }\n",
    ").json()\n",
    "\n",
    "if not ch_res.get(\"items\"):\n",
    "    raise SystemExit(\"Không tìm thấy channel với handle này.\")\n",
    "\n",
    "ch_item = ch_res[\"items\"][0]\n",
    "channel_id = ch_item[\"id\"]\n",
    "upload_pl = ch_item[\"contentDetails\"][\"relatedPlaylists\"][\"uploads\"]\n",
    "\n",
    "print(\"Channel ID:\", channel_id)\n",
    "print(\"Title:\", ch_item[\"snippet\"][\"title\"])\n",
    "print(\"Subs:\", ch_item[\"statistics\"].get(\"subscriberCount\"))"
   ],
   "id": "f712c9b906d4c5b9",
   "outputs": [
    {
     "name": "stdout",
     "output_type": "stream",
     "text": [
      "Channel ID: UCp74ruKv2sUiI2HqEhH8pRw\n",
      "Title: tuki.(16)\n",
      "Subs: 1100000\n"
     ]
    }
   ],
   "execution_count": 3
  },
  {
   "metadata": {
    "ExecuteTime": {
     "end_time": "2025-10-08T12:04:49.886799Z",
     "start_time": "2025-10-08T12:04:49.874837Z"
    }
   },
   "cell_type": "code",
   "source": "ch_res",
   "id": "6f530d678031c9c7",
   "outputs": [
    {
     "data": {
      "text/plain": [
       "{'kind': 'youtube#channelListResponse',\n",
       " 'etag': 'gmB4e6iGPQXGYLe40Yrou1HXSa0',\n",
       " 'pageInfo': {'totalResults': 1, 'resultsPerPage': 5},\n",
       " 'items': [{'kind': 'youtube#channel',\n",
       "   'etag': '-Krf-eCpt5_PDvenghECPP5-vDY',\n",
       "   'id': 'UCp74ruKv2sUiI2HqEhH8pRw',\n",
       "   'snippet': {'title': 'tuki.(16)',\n",
       "    'description': '高校二年生 16歳 弾き語り 誰かの心に響きますように。',\n",
       "    'customUrl': '@tuki.music_official',\n",
       "    'publishedAt': '2023-07-18T07:32:30.72368Z',\n",
       "    'thumbnails': {'default': {'url': 'https://yt3.ggpht.com/56pJ8Rhb9L2wXD6sXgkOkFFSp29OfgvVK3GjkpuqSKv0e0bHi5p-p4S6hZbMhyaECRubkdfO0A=s88-c-k-c0x00ffffff-no-rj',\n",
       "      'width': 88,\n",
       "      'height': 88},\n",
       "     'medium': {'url': 'https://yt3.ggpht.com/56pJ8Rhb9L2wXD6sXgkOkFFSp29OfgvVK3GjkpuqSKv0e0bHi5p-p4S6hZbMhyaECRubkdfO0A=s240-c-k-c0x00ffffff-no-rj',\n",
       "      'width': 240,\n",
       "      'height': 240},\n",
       "     'high': {'url': 'https://yt3.ggpht.com/56pJ8Rhb9L2wXD6sXgkOkFFSp29OfgvVK3GjkpuqSKv0e0bHi5p-p4S6hZbMhyaECRubkdfO0A=s800-c-k-c0x00ffffff-no-rj',\n",
       "      'width': 800,\n",
       "      'height': 800}},\n",
       "    'localized': {'title': 'tuki.(16)',\n",
       "     'description': '高校二年生 16歳 弾き語り 誰かの心に響きますように。'},\n",
       "    'country': 'JP'},\n",
       "   'contentDetails': {'relatedPlaylists': {'likes': '',\n",
       "     'uploads': 'UUp74ruKv2sUiI2HqEhH8pRw'}},\n",
       "   'statistics': {'viewCount': '552984374',\n",
       "    'subscriberCount': '1100000',\n",
       "    'hiddenSubscriberCount': False,\n",
       "    'videoCount': '330'}}]}"
      ]
     },
     "execution_count": 4,
     "metadata": {},
     "output_type": "execute_result"
    }
   ],
   "execution_count": 4
  },
  {
   "metadata": {
    "ExecuteTime": {
     "end_time": "2025-10-08T12:07:00.561923Z",
     "start_time": "2025-10-08T12:07:00.522263Z"
    }
   },
   "cell_type": "code",
   "source": [
    "df_channel_dbt = pd.json_normalize(ch_res, sep=\"__\")\n",
    "df_channel_dbt"
   ],
   "id": "1d9984bce37be6bf",
   "outputs": [
    {
     "data": {
      "text/plain": [
       "                          kind                         etag  \\\n",
       "0  youtube#channelListResponse  gmB4e6iGPQXGYLe40Yrou1HXSa0   \n",
       "\n",
       "                                               items  pageInfo__totalResults  \\\n",
       "0  [{'kind': 'youtube#channel', 'etag': '-Krf-eCp...                       1   \n",
       "\n",
       "   pageInfo__resultsPerPage  \n",
       "0                         5  "
      ],
      "text/html": [
       "<div>\n",
       "<style scoped>\n",
       "    .dataframe tbody tr th:only-of-type {\n",
       "        vertical-align: middle;\n",
       "    }\n",
       "\n",
       "    .dataframe tbody tr th {\n",
       "        vertical-align: top;\n",
       "    }\n",
       "\n",
       "    .dataframe thead th {\n",
       "        text-align: right;\n",
       "    }\n",
       "</style>\n",
       "<table border=\"1\" class=\"dataframe\">\n",
       "  <thead>\n",
       "    <tr style=\"text-align: right;\">\n",
       "      <th></th>\n",
       "      <th>kind</th>\n",
       "      <th>etag</th>\n",
       "      <th>items</th>\n",
       "      <th>pageInfo__totalResults</th>\n",
       "      <th>pageInfo__resultsPerPage</th>\n",
       "    </tr>\n",
       "  </thead>\n",
       "  <tbody>\n",
       "    <tr>\n",
       "      <th>0</th>\n",
       "      <td>youtube#channelListResponse</td>\n",
       "      <td>gmB4e6iGPQXGYLe40Yrou1HXSa0</td>\n",
       "      <td>[{'kind': 'youtube#channel', 'etag': '-Krf-eCp...</td>\n",
       "      <td>1</td>\n",
       "      <td>5</td>\n",
       "    </tr>\n",
       "  </tbody>\n",
       "</table>\n",
       "</div>"
      ]
     },
     "execution_count": 8,
     "metadata": {},
     "output_type": "execute_result"
    }
   ],
   "execution_count": 8
  },
  {
   "metadata": {
    "ExecuteTime": {
     "end_time": "2025-10-08T12:08:22.633836Z",
     "start_time": "2025-10-08T12:08:22.612740Z"
    }
   },
   "cell_type": "code",
   "source": [
    "# Trích xuất dữ liệu\n",
    "channels = []\n",
    "for item in ch_res.get(\"items\", []):\n",
    "    channels.append({\n",
    "        \"channel_id\": item[\"id\"],\n",
    "        \"title\": item[\"snippet\"][\"title\"],\n",
    "        \"description\": item[\"snippet\"][\"description\"],\n",
    "        \"customUrl\": item[\"snippet\"].get(\"customUrl\"),\n",
    "        \"publishedAt\": item[\"snippet\"][\"publishedAt\"],\n",
    "        \"country\": item[\"snippet\"].get(\"country\"),\n",
    "        \"thumbnail_high\": item[\"snippet\"][\"thumbnails\"][\"high\"][\"url\"],\n",
    "        \"uploads_playlist\": item[\"contentDetails\"][\"relatedPlaylists\"][\"uploads\"],\n",
    "        \"subscriberCount\": int(item[\"statistics\"].get(\"subscriberCount\", 0)),\n",
    "        \"viewCount\": int(item[\"statistics\"].get(\"viewCount\", 0)),\n",
    "        \"videoCount\": int(item[\"statistics\"].get(\"videoCount\", 0)),\n",
    "    })\n",
    "\n",
    "# Đưa vào DataFrame\n",
    "df_channels = pd.DataFrame(channels)\n",
    "df_channels"
   ],
   "id": "454bdc73ea46c6d4",
   "outputs": [
    {
     "data": {
      "text/plain": [
       "                 channel_id      title                   description  \\\n",
       "0  UCp74ruKv2sUiI2HqEhH8pRw  tuki.(16)  高校二年生 16歳 弾き語り 誰かの心に響きますように。   \n",
       "\n",
       "              customUrl                 publishedAt country  \\\n",
       "0  @tuki.music_official  2023-07-18T07:32:30.72368Z      JP   \n",
       "\n",
       "                                      thumbnail_high  \\\n",
       "0  https://yt3.ggpht.com/56pJ8Rhb9L2wXD6sXgkOkFFS...   \n",
       "\n",
       "           uploads_playlist  subscriberCount  viewCount  videoCount  \n",
       "0  UUp74ruKv2sUiI2HqEhH8pRw          1100000  552984374         330  "
      ],
      "text/html": [
       "<div>\n",
       "<style scoped>\n",
       "    .dataframe tbody tr th:only-of-type {\n",
       "        vertical-align: middle;\n",
       "    }\n",
       "\n",
       "    .dataframe tbody tr th {\n",
       "        vertical-align: top;\n",
       "    }\n",
       "\n",
       "    .dataframe thead th {\n",
       "        text-align: right;\n",
       "    }\n",
       "</style>\n",
       "<table border=\"1\" class=\"dataframe\">\n",
       "  <thead>\n",
       "    <tr style=\"text-align: right;\">\n",
       "      <th></th>\n",
       "      <th>channel_id</th>\n",
       "      <th>title</th>\n",
       "      <th>description</th>\n",
       "      <th>customUrl</th>\n",
       "      <th>publishedAt</th>\n",
       "      <th>country</th>\n",
       "      <th>thumbnail_high</th>\n",
       "      <th>uploads_playlist</th>\n",
       "      <th>subscriberCount</th>\n",
       "      <th>viewCount</th>\n",
       "      <th>videoCount</th>\n",
       "    </tr>\n",
       "  </thead>\n",
       "  <tbody>\n",
       "    <tr>\n",
       "      <th>0</th>\n",
       "      <td>UCp74ruKv2sUiI2HqEhH8pRw</td>\n",
       "      <td>tuki.(16)</td>\n",
       "      <td>高校二年生 16歳 弾き語り 誰かの心に響きますように。</td>\n",
       "      <td>@tuki.music_official</td>\n",
       "      <td>2023-07-18T07:32:30.72368Z</td>\n",
       "      <td>JP</td>\n",
       "      <td>https://yt3.ggpht.com/56pJ8Rhb9L2wXD6sXgkOkFFS...</td>\n",
       "      <td>UUp74ruKv2sUiI2HqEhH8pRw</td>\n",
       "      <td>1100000</td>\n",
       "      <td>552984374</td>\n",
       "      <td>330</td>\n",
       "    </tr>\n",
       "  </tbody>\n",
       "</table>\n",
       "</div>"
      ]
     },
     "execution_count": 9,
     "metadata": {},
     "output_type": "execute_result"
    }
   ],
   "execution_count": 9
  }
 ],
 "metadata": {
  "kernelspec": {
   "name": "python3",
   "language": "python",
   "display_name": "Python 3 (ipykernel)"
  }
 },
 "nbformat": 4,
 "nbformat_minor": 5
}
